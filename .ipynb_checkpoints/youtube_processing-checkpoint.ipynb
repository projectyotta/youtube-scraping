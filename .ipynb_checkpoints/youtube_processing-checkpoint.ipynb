{
 "cells": [
  {
   "cell_type": "code",
   "execution_count": 1,
   "metadata": {},
   "outputs": [
    {
     "name": "stdout",
     "output_type": "stream",
     "text": [
      "Requirement already satisfied: scrapetube in c:\\programdata\\anaconda3\\lib\\site-packages (2.1.1)\n",
      "Requirement already satisfied: requests in c:\\programdata\\anaconda3\\lib\\site-packages (from scrapetube) (2.24.0)\n",
      "Requirement already satisfied: certifi>=2017.4.17 in c:\\programdata\\anaconda3\\lib\\site-packages (from requests->scrapetube) (2020.6.20)\n",
      "Requirement already satisfied: urllib3!=1.25.0,!=1.25.1,<1.26,>=1.21.1 in c:\\programdata\\anaconda3\\lib\\site-packages (from requests->scrapetube) (1.25.9)\n",
      "Requirement already satisfied: chardet<4,>=3.0.2 in c:\\programdata\\anaconda3\\lib\\site-packages (from requests->scrapetube) (3.0.4)\n",
      "Requirement already satisfied: idna<3,>=2.5 in c:\\programdata\\anaconda3\\lib\\site-packages (from requests->scrapetube) (2.10)\n"
     ]
    },
    {
     "name": "stderr",
     "output_type": "stream",
     "text": [
      "The system cannot find the path specified.\n"
     ]
    },
    {
     "name": "stdout",
     "output_type": "stream",
     "text": [
      "Requirement already satisfied: boto3 in c:\\programdata\\anaconda3\\lib\\site-packages (1.14.43)\n",
      "Requirement already satisfied: jmespath<1.0.0,>=0.7.1 in c:\\programdata\\anaconda3\\lib\\site-packages (from boto3) (0.10.0)\n",
      "Requirement already satisfied: s3transfer<0.4.0,>=0.3.0 in c:\\programdata\\anaconda3\\lib\\site-packages (from boto3) (0.3.3)\n",
      "Requirement already satisfied: botocore<1.18.0,>=1.17.43 in c:\\programdata\\anaconda3\\lib\\site-packages (from boto3) (1.17.43)\n",
      "Requirement already satisfied: urllib3<1.26,>=1.20; python_version != \"3.4\" in c:\\programdata\\anaconda3\\lib\\site-packages (from botocore<1.18.0,>=1.17.43->boto3) (1.25.9)\n",
      "Requirement already satisfied: docutils<0.16,>=0.10 in c:\\programdata\\anaconda3\\lib\\site-packages (from botocore<1.18.0,>=1.17.43->boto3) (0.15.2)\n",
      "Requirement already satisfied: python-dateutil<3.0.0,>=2.1 in c:\\programdata\\anaconda3\\lib\\site-packages (from botocore<1.18.0,>=1.17.43->boto3) (2.8.1)\n",
      "Requirement already satisfied: six>=1.5 in c:\\programdata\\anaconda3\\lib\\site-packages (from python-dateutil<3.0.0,>=2.1->botocore<1.18.0,>=1.17.43->boto3) (1.15.0)\n"
     ]
    },
    {
     "name": "stderr",
     "output_type": "stream",
     "text": [
      "The system cannot find the path specified.\n"
     ]
    }
   ],
   "source": [
    "# use library to get list of videos newly uploaded by a specific user \n",
    "!pip install scrapetube\n",
    "!pip install boto3\n",
    "import scrapetube\n",
    "import re \n",
    "import json \n",
    "import time    \n",
    "# get list of channels needed from config file or whatever from dropbox \n",
    "# send message via twilio to ensure message can be sent over \n",
    "# channels = "
   ]
  },
  {
   "cell_type": "code",
   "execution_count": null,
   "metadata": {},
   "outputs": [],
   "source": [
    "https://www.youtube.com/c/unitednations\n",
    "    https://www.youtube.com/c/WIONhttps://www.youtube.com/c/Vikinged\n",
    "            https://www.youtube.com/21\n",
    "                https://www.youtube.com/channel/UCFexD7T2S9PNpxQ1ejdKwwg"
   ]
  },
  {
   "cell_type": "code",
   "execution_count": 18,
   "metadata": {},
   "outputs": [],
   "source": [
    "def get_videos_list(channel_id=None,channel_url = None,limit=200):\n",
    "    import re\n",
    "    videos = list(scrapetube.get_channel(channel_id=channel_id ,limit=limit))\n",
    "    output = []\n",
    "    for i in range(0,len(videos)):\n",
    "        x = videos[i]\n",
    "        temp = {}\n",
    "        temp['images'] = [item['url'] for item in x['thumbnail']['thumbnails']]\n",
    "        temp['url'] = 'https://www.youtube.com/watch?v=' + x['videoId']\n",
    "        temp['title'] = x['title']['runs'][0]['text']\n",
    "        \n",
    "        try:\n",
    "            temp['channel_name'] = str(re.findall('([a-zA-Z ]*)\\d*.*', x['title']['accessibility']['accessibilityData']['label'].split('by')[1])[0]).strip()\n",
    "        except Exception as ex:\n",
    "            temp['channel_name']=''\n",
    "        try:\n",
    "            temp['duration'] = x['thumbnailOverlays'][0]['thumbnailOverlayTimeStatusRenderer']['text']['simpleText']        \n",
    "        except Exception as ex:\n",
    "            temp['duration'] = ''\n",
    "        try:\n",
    "            temp['when_published'] = x['publishedTimeText']['simpleText']\n",
    "        except Exception as ex:\n",
    "            temp['when_published'] = ''\n",
    "        try:\n",
    "            temp['view_count'] = x['viewCountText']['simpleText']\n",
    "        except Exception as ex:\n",
    "            temp['view_count'] = ''\n",
    "                \n",
    "        output.append(temp)\n",
    "    return output\n",
    "# idx = 'UC4woSp8ITBoYDmjkukhEhxg'\n",
    "# a = get_videos_list(idx)"
   ]
  },
  {
   "cell_type": "code",
   "execution_count": 19,
   "metadata": {},
   "outputs": [],
   "source": [
    "with open('final.json') as f:\n",
    "    data = json.load(f)\n",
    "    \n",
    "    "
   ]
  },
  {
   "cell_type": "code",
   "execution_count": 21,
   "metadata": {},
   "outputs": [
    {
     "ename": "JSONDecodeError",
     "evalue": "Expecting value: line 1 column 1 (char 0)",
     "output_type": "error",
     "traceback": [
      "\u001b[1;31m---------------------------------------------------------------------------\u001b[0m",
      "\u001b[1;31mJSONDecodeError\u001b[0m                           Traceback (most recent call last)",
      "\u001b[1;32m<ipython-input-21-66dae6219953>\u001b[0m in \u001b[0;36m<module>\u001b[1;34m\u001b[0m\n\u001b[1;32m----> 1\u001b[1;33m \u001b[0mget_videos_list\u001b[0m\u001b[1;33m(\u001b[0m\u001b[0mchannel_id\u001b[0m  \u001b[1;33m=\u001b[0m\u001b[1;34m\"TimcastIRL\"\u001b[0m\u001b[1;33m)\u001b[0m\u001b[1;33m\u001b[0m\u001b[1;33m\u001b[0m\u001b[0m\n\u001b[0m",
      "\u001b[1;32m<ipython-input-18-53c0090f3b6b>\u001b[0m in \u001b[0;36mget_videos_list\u001b[1;34m(channel_id, channel_url, limit)\u001b[0m\n\u001b[0;32m      1\u001b[0m \u001b[1;32mdef\u001b[0m \u001b[0mget_videos_list\u001b[0m\u001b[1;33m(\u001b[0m\u001b[0mchannel_id\u001b[0m\u001b[1;33m=\u001b[0m\u001b[1;32mNone\u001b[0m\u001b[1;33m,\u001b[0m\u001b[0mchannel_url\u001b[0m \u001b[1;33m=\u001b[0m \u001b[1;32mNone\u001b[0m\u001b[1;33m,\u001b[0m\u001b[0mlimit\u001b[0m\u001b[1;33m=\u001b[0m\u001b[1;36m200\u001b[0m\u001b[1;33m)\u001b[0m\u001b[1;33m:\u001b[0m\u001b[1;33m\u001b[0m\u001b[1;33m\u001b[0m\u001b[0m\n\u001b[0;32m      2\u001b[0m     \u001b[1;32mimport\u001b[0m \u001b[0mre\u001b[0m\u001b[1;33m\u001b[0m\u001b[1;33m\u001b[0m\u001b[0m\n\u001b[1;32m----> 3\u001b[1;33m     \u001b[0mvideos\u001b[0m \u001b[1;33m=\u001b[0m \u001b[0mlist\u001b[0m\u001b[1;33m(\u001b[0m\u001b[0mscrapetube\u001b[0m\u001b[1;33m.\u001b[0m\u001b[0mget_channel\u001b[0m\u001b[1;33m(\u001b[0m\u001b[0mchannel_id\u001b[0m\u001b[1;33m=\u001b[0m\u001b[0mchannel_id\u001b[0m \u001b[1;33m,\u001b[0m\u001b[0mlimit\u001b[0m\u001b[1;33m=\u001b[0m\u001b[0mlimit\u001b[0m\u001b[1;33m)\u001b[0m\u001b[1;33m)\u001b[0m\u001b[1;33m\u001b[0m\u001b[1;33m\u001b[0m\u001b[0m\n\u001b[0m\u001b[0;32m      4\u001b[0m     \u001b[0moutput\u001b[0m \u001b[1;33m=\u001b[0m \u001b[1;33m[\u001b[0m\u001b[1;33m]\u001b[0m\u001b[1;33m\u001b[0m\u001b[1;33m\u001b[0m\u001b[0m\n\u001b[0;32m      5\u001b[0m     \u001b[1;32mfor\u001b[0m \u001b[0mi\u001b[0m \u001b[1;32min\u001b[0m \u001b[0mrange\u001b[0m\u001b[1;33m(\u001b[0m\u001b[1;36m0\u001b[0m\u001b[1;33m,\u001b[0m\u001b[0mlen\u001b[0m\u001b[1;33m(\u001b[0m\u001b[0mvideos\u001b[0m\u001b[1;33m)\u001b[0m\u001b[1;33m)\u001b[0m\u001b[1;33m:\u001b[0m\u001b[1;33m\u001b[0m\u001b[1;33m\u001b[0m\u001b[0m\n",
      "\u001b[1;32mC:\\ProgramData\\Anaconda3\\lib\\site-packages\\scrapetube\\scrapetube.py\u001b[0m in \u001b[0;36mget_channel\u001b[1;34m(channel_id, limit, sleep, sort_by)\u001b[0m\n\u001b[0;32m     31\u001b[0m     \u001b[0mapi_endpoint\u001b[0m \u001b[1;33m=\u001b[0m \u001b[1;34m'https://www.youtube.com/youtubei/v1/browse'\u001b[0m\u001b[1;33m\u001b[0m\u001b[1;33m\u001b[0m\u001b[0m\n\u001b[0;32m     32\u001b[0m     \u001b[0mvideos\u001b[0m \u001b[1;33m=\u001b[0m \u001b[0mget_videos\u001b[0m\u001b[1;33m(\u001b[0m\u001b[0murl\u001b[0m\u001b[1;33m,\u001b[0m \u001b[0mapi_endpoint\u001b[0m\u001b[1;33m,\u001b[0m \u001b[1;34m'gridVideoRenderer'\u001b[0m\u001b[1;33m,\u001b[0m \u001b[0mlimit\u001b[0m\u001b[1;33m,\u001b[0m \u001b[0msleep\u001b[0m\u001b[1;33m)\u001b[0m\u001b[1;33m\u001b[0m\u001b[1;33m\u001b[0m\u001b[0m\n\u001b[1;32m---> 33\u001b[1;33m     \u001b[1;32mfor\u001b[0m \u001b[0mvideo\u001b[0m \u001b[1;32min\u001b[0m \u001b[0mvideos\u001b[0m\u001b[1;33m:\u001b[0m\u001b[1;33m\u001b[0m\u001b[1;33m\u001b[0m\u001b[0m\n\u001b[0m\u001b[0;32m     34\u001b[0m         \u001b[1;32myield\u001b[0m \u001b[0mvideo\u001b[0m\u001b[1;33m\u001b[0m\u001b[1;33m\u001b[0m\u001b[0m\n\u001b[0;32m     35\u001b[0m \u001b[1;33m\u001b[0m\u001b[0m\n",
      "\u001b[1;32mC:\\ProgramData\\Anaconda3\\lib\\site-packages\\scrapetube\\scrapetube.py\u001b[0m in \u001b[0;36mget_videos\u001b[1;34m(url, api_endpoint, selector, limit, sleep)\u001b[0m\n\u001b[0;32m    107\u001b[0m         \u001b[1;32mif\u001b[0m \u001b[0mis_first\u001b[0m\u001b[1;33m:\u001b[0m\u001b[1;33m\u001b[0m\u001b[1;33m\u001b[0m\u001b[0m\n\u001b[0;32m    108\u001b[0m             \u001b[0mhtml\u001b[0m \u001b[1;33m=\u001b[0m \u001b[0mget_initial_data\u001b[0m\u001b[1;33m(\u001b[0m\u001b[0msession\u001b[0m\u001b[1;33m,\u001b[0m \u001b[0murl\u001b[0m\u001b[1;33m)\u001b[0m\u001b[1;33m\u001b[0m\u001b[1;33m\u001b[0m\u001b[0m\n\u001b[1;32m--> 109\u001b[1;33m             client = json.loads(get_json_from_html(\n\u001b[0m\u001b[0;32m    110\u001b[0m                 html, 'INNERTUBE_CONTEXT', 2, '\"}},') + '\"}}')['client']\n\u001b[0;32m    111\u001b[0m             \u001b[0mapi_key\u001b[0m \u001b[1;33m=\u001b[0m \u001b[0mget_json_from_html\u001b[0m\u001b[1;33m(\u001b[0m\u001b[0mhtml\u001b[0m\u001b[1;33m,\u001b[0m \u001b[1;34m'innertubeApiKey'\u001b[0m\u001b[1;33m,\u001b[0m \u001b[1;36m3\u001b[0m\u001b[1;33m)\u001b[0m\u001b[1;33m\u001b[0m\u001b[1;33m\u001b[0m\u001b[0m\n",
      "\u001b[1;32mC:\\ProgramData\\Anaconda3\\lib\\json\\__init__.py\u001b[0m in \u001b[0;36mloads\u001b[1;34m(s, cls, object_hook, parse_float, parse_int, parse_constant, object_pairs_hook, **kw)\u001b[0m\n\u001b[0;32m    355\u001b[0m             \u001b[0mparse_int\u001b[0m \u001b[1;32mis\u001b[0m \u001b[1;32mNone\u001b[0m \u001b[1;32mand\u001b[0m \u001b[0mparse_float\u001b[0m \u001b[1;32mis\u001b[0m \u001b[1;32mNone\u001b[0m \u001b[1;32mand\u001b[0m\u001b[1;33m\u001b[0m\u001b[1;33m\u001b[0m\u001b[0m\n\u001b[0;32m    356\u001b[0m             parse_constant is None and object_pairs_hook is None and not kw):\n\u001b[1;32m--> 357\u001b[1;33m         \u001b[1;32mreturn\u001b[0m \u001b[0m_default_decoder\u001b[0m\u001b[1;33m.\u001b[0m\u001b[0mdecode\u001b[0m\u001b[1;33m(\u001b[0m\u001b[0ms\u001b[0m\u001b[1;33m)\u001b[0m\u001b[1;33m\u001b[0m\u001b[1;33m\u001b[0m\u001b[0m\n\u001b[0m\u001b[0;32m    358\u001b[0m     \u001b[1;32mif\u001b[0m \u001b[0mcls\u001b[0m \u001b[1;32mis\u001b[0m \u001b[1;32mNone\u001b[0m\u001b[1;33m:\u001b[0m\u001b[1;33m\u001b[0m\u001b[1;33m\u001b[0m\u001b[0m\n\u001b[0;32m    359\u001b[0m         \u001b[0mcls\u001b[0m \u001b[1;33m=\u001b[0m \u001b[0mJSONDecoder\u001b[0m\u001b[1;33m\u001b[0m\u001b[1;33m\u001b[0m\u001b[0m\n",
      "\u001b[1;32mC:\\ProgramData\\Anaconda3\\lib\\json\\decoder.py\u001b[0m in \u001b[0;36mdecode\u001b[1;34m(self, s, _w)\u001b[0m\n\u001b[0;32m    335\u001b[0m \u001b[1;33m\u001b[0m\u001b[0m\n\u001b[0;32m    336\u001b[0m         \"\"\"\n\u001b[1;32m--> 337\u001b[1;33m         \u001b[0mobj\u001b[0m\u001b[1;33m,\u001b[0m \u001b[0mend\u001b[0m \u001b[1;33m=\u001b[0m \u001b[0mself\u001b[0m\u001b[1;33m.\u001b[0m\u001b[0mraw_decode\u001b[0m\u001b[1;33m(\u001b[0m\u001b[0ms\u001b[0m\u001b[1;33m,\u001b[0m \u001b[0midx\u001b[0m\u001b[1;33m=\u001b[0m\u001b[0m_w\u001b[0m\u001b[1;33m(\u001b[0m\u001b[0ms\u001b[0m\u001b[1;33m,\u001b[0m \u001b[1;36m0\u001b[0m\u001b[1;33m)\u001b[0m\u001b[1;33m.\u001b[0m\u001b[0mend\u001b[0m\u001b[1;33m(\u001b[0m\u001b[1;33m)\u001b[0m\u001b[1;33m)\u001b[0m\u001b[1;33m\u001b[0m\u001b[1;33m\u001b[0m\u001b[0m\n\u001b[0m\u001b[0;32m    338\u001b[0m         \u001b[0mend\u001b[0m \u001b[1;33m=\u001b[0m \u001b[0m_w\u001b[0m\u001b[1;33m(\u001b[0m\u001b[0ms\u001b[0m\u001b[1;33m,\u001b[0m \u001b[0mend\u001b[0m\u001b[1;33m)\u001b[0m\u001b[1;33m.\u001b[0m\u001b[0mend\u001b[0m\u001b[1;33m(\u001b[0m\u001b[1;33m)\u001b[0m\u001b[1;33m\u001b[0m\u001b[1;33m\u001b[0m\u001b[0m\n\u001b[0;32m    339\u001b[0m         \u001b[1;32mif\u001b[0m \u001b[0mend\u001b[0m \u001b[1;33m!=\u001b[0m \u001b[0mlen\u001b[0m\u001b[1;33m(\u001b[0m\u001b[0ms\u001b[0m\u001b[1;33m)\u001b[0m\u001b[1;33m:\u001b[0m\u001b[1;33m\u001b[0m\u001b[1;33m\u001b[0m\u001b[0m\n",
      "\u001b[1;32mC:\\ProgramData\\Anaconda3\\lib\\json\\decoder.py\u001b[0m in \u001b[0;36mraw_decode\u001b[1;34m(self, s, idx)\u001b[0m\n\u001b[0;32m    353\u001b[0m             \u001b[0mobj\u001b[0m\u001b[1;33m,\u001b[0m \u001b[0mend\u001b[0m \u001b[1;33m=\u001b[0m \u001b[0mself\u001b[0m\u001b[1;33m.\u001b[0m\u001b[0mscan_once\u001b[0m\u001b[1;33m(\u001b[0m\u001b[0ms\u001b[0m\u001b[1;33m,\u001b[0m \u001b[0midx\u001b[0m\u001b[1;33m)\u001b[0m\u001b[1;33m\u001b[0m\u001b[1;33m\u001b[0m\u001b[0m\n\u001b[0;32m    354\u001b[0m         \u001b[1;32mexcept\u001b[0m \u001b[0mStopIteration\u001b[0m \u001b[1;32mas\u001b[0m \u001b[0merr\u001b[0m\u001b[1;33m:\u001b[0m\u001b[1;33m\u001b[0m\u001b[1;33m\u001b[0m\u001b[0m\n\u001b[1;32m--> 355\u001b[1;33m             \u001b[1;32mraise\u001b[0m \u001b[0mJSONDecodeError\u001b[0m\u001b[1;33m(\u001b[0m\u001b[1;34m\"Expecting value\"\u001b[0m\u001b[1;33m,\u001b[0m \u001b[0ms\u001b[0m\u001b[1;33m,\u001b[0m \u001b[0merr\u001b[0m\u001b[1;33m.\u001b[0m\u001b[0mvalue\u001b[0m\u001b[1;33m)\u001b[0m \u001b[1;32mfrom\u001b[0m \u001b[1;32mNone\u001b[0m\u001b[1;33m\u001b[0m\u001b[1;33m\u001b[0m\u001b[0m\n\u001b[0m\u001b[0;32m    356\u001b[0m         \u001b[1;32mreturn\u001b[0m \u001b[0mobj\u001b[0m\u001b[1;33m,\u001b[0m \u001b[0mend\u001b[0m\u001b[1;33m\u001b[0m\u001b[1;33m\u001b[0m\u001b[0m\n",
      "\u001b[1;31mJSONDecodeError\u001b[0m: Expecting value: line 1 column 1 (char 0)"
     ]
    }
   ],
   "source": [
    "get_videos_list(channel_id  =\"TimcastIRL\")"
   ]
  },
  {
   "cell_type": "code",
   "execution_count": 21,
   "metadata": {},
   "outputs": [],
   "source": [
    "# initial data pull \n",
    "i = 0 \n",
    "for channel in channels:\n",
    "    x = get_videos_list(channel)\n",
    "    i = i+1 \n",
    "    print(str(i) + channel)\n",
    "    with open('youtube_initial_data/'+channel+'.json', 'w') as f:\n",
    "        json.dump(x, f) "
   ]
  },
  {
   "cell_type": "code",
   "execution_count": null,
   "metadata": {},
   "outputs": [],
   "source": [
    "# merge into single file \n",
    "import glob\n",
    "read_files = glob.glob(\"C:\\\\Users\\\\Administrator\\\\Desktop\\\\youtube_initial_data\\\\*.json\")\n",
    "final = []\n",
    "for item in read_files:\n",
    "    final.extend(json.load(open(item)))\n",
    "\n",
    "# cleanup \n",
    "with open('youtube_initial_data/'+'final'+'.json', 'w') as f:\n",
    "        json.dump(final, f)\n",
    "import os \n",
    "for item in read_files:\n",
    "    os.remove(item)"
   ]
  },
  {
   "cell_type": "code",
   "execution_count": null,
   "metadata": {},
   "outputs": [],
   "source": []
  },
  {
   "cell_type": "code",
   "execution_count": 3,
   "metadata": {},
   "outputs": [],
   "source": [
    "# build logic to push existing data to a database - fuck it , S3 it is . \n",
    "# build logic to continually ingest data \n",
    "# build logic to store channel list as a config file somewhere \n",
    "\n",
    "import boto3 \n",
    "\n",
    "s3 = boto3.resource(service_name='s3',region_name='us-east-2',\n",
    "                    aws_access_key_id=access,\n",
    "                    aws_secret_access_key=secret)"
   ]
  },
  {
   "cell_type": "code",
   "execution_count": 4,
   "metadata": {},
   "outputs": [
    {
     "name": "stdout",
     "output_type": "stream",
     "text": [
      "google-drive-backup-pictures\n",
      "youtube-scraping\n"
     ]
    }
   ],
   "source": [
    "# for bucket in s3.buckets.all():\n",
    "#     print(bucket.name)"
   ]
  },
  {
   "cell_type": "code",
   "execution_count": 5,
   "metadata": {},
   "outputs": [],
   "source": [
    "\n",
    "s3.Bucket('youtube-scraping').upload_file(Filename='final.json', Key='final.json')"
   ]
  },
  {
   "cell_type": "code",
   "execution_count": null,
   "metadata": {},
   "outputs": [],
   "source": [
    "# Same concept for reading in config files from anywhere \n",
    "# Same logic will be used everywhere in multiple places \n",
    "# !pip install dropbox\n",
    "import dropbox\n",
    "class dbox_data:\n",
    "    \n",
    "    # instantiate dropbox object \n",
    "    \n",
    "    def __init__(self,dropbox_access_token=None,dbx=None):\n",
    "        self.dropbox_access_token = 'ADD_ACCESS_TOKEN_HERE'\n",
    "        self.dbx = dropbox.Dropbox(self.dropbox_access_token)\n",
    "        print('dropbox object created')\n",
    "    \n",
    "    # Get list of all the files present in the config folder \n",
    "    def get_list_of_files(self,path=''):\n",
    "        print('Getting list of files')\n",
    "        files = []\n",
    "        for entry in self.dbx.files_list_folder(path).entries:\n",
    "            files.append(dict({'is_downloadable': entry.is_downloadable , 'name': entry.name,  'path_display':entry.path_display}))\n",
    "        print('List of files ' + json.dumps(files))\n",
    "        return files\n",
    "\n",
    "    # Choose list of files which match the filename that you are feeding in \n",
    "    def choose_files(self,filename):\n",
    "        a = [item for item in self.get_list_of_files() if filename in item['name']]\n",
    "        print('List of filtered files ' + str(a))\n",
    "        return a \n",
    "    \n",
    "    # \n",
    "    def get_content(self,filename):\n",
    "        metadata, res = self.dbx.files_download(path=self.choose_files(filename)[0]['path_display'])\n",
    "        print('Content extracted from object is ' + str(res.text))\n",
    "        return res.text\n",
    "\n",
    "a = dbox_data().get_content(filename='aaa')\n"
   ]
  },
  {
   "cell_type": "code",
   "execution_count": null,
   "metadata": {},
   "outputs": [],
   "source": []
  },
  {
   "cell_type": "code",
   "execution_count": 23,
   "metadata": {},
   "outputs": [],
   "source": [
    "import pyautogui\n",
    "\n",
    "\n",
    "\n",
    "import pyperclip\n",
    "pyperclip.copy('https://www.sec.gov/Archives/edgar/data/1000045/0001000045-11-000002.txt')\n",
    "time.sleep(3)\n",
    "pyautogui.hotkey('ctrl', 't')\n",
    "time.sleep(2)\n",
    "pyautogui.hotkey('ctrl', 'v')\n",
    "time.sleep(1)\n",
    "pyautogui.hotkey('enter')\n",
    "time.sleep(4)\n",
    "pyautogui.hotkey('ctrl', 's')\n",
    "time.sleep(1)\n",
    "pyautogui.hotkey('enter')\n",
    "time.sleep(1)\n",
    "pyautogui.hotkey('ctrl', 'w')\n"
   ]
  },
  {
   "cell_type": "code",
   "execution_count": null,
   "metadata": {},
   "outputs": [],
   "source": []
  }
 ],
 "metadata": {
  "kernelspec": {
   "display_name": "Python 3",
   "language": "python",
   "name": "python3"
  },
  "language_info": {
   "codemirror_mode": {
    "name": "ipython",
    "version": 3
   },
   "file_extension": ".py",
   "mimetype": "text/x-python",
   "name": "python",
   "nbconvert_exporter": "python",
   "pygments_lexer": "ipython3",
   "version": "3.8.3"
  }
 },
 "nbformat": 4,
 "nbformat_minor": 5
}
